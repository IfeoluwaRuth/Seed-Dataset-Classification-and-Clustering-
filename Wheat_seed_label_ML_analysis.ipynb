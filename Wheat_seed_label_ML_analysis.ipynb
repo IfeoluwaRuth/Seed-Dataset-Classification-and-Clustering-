{
  "nbformat": 4,
  "nbformat_minor": 0,
  "metadata": {
    "colab": {
      "provenance": [],
      "collapsed_sections": [
        "Bi7jG42eWaHv"
      ],
      "toc_visible": true,
      "authorship_tag": "ABX9TyPBoh4BOEunM40ZxuPs05G4",
      "include_colab_link": true
    },
    "kernelspec": {
      "name": "python3",
      "display_name": "Python 3"
    },
    "language_info": {
      "name": "python"
    }
  },
  "cells": [
    {
      "cell_type": "markdown",
      "metadata": {
        "id": "view-in-github",
        "colab_type": "text"
      },
      "source": [
        "<a href=\"https://colab.research.google.com/github/IfeoluwaRuth/Seed-Dataset-Classification-and-Clustering-/blob/main/Wheat_seed_label_ML_analysis.ipynb\" target=\"_parent\"><img src=\"https://colab.research.google.com/assets/colab-badge.svg\" alt=\"Open In Colab\"/></a>"
      ]
    },
    {
      "cell_type": "markdown",
      "source": [
        "Machine Algorithm for supervise classification dataset"
      ],
      "metadata": {
        "id": "Bi7jG42eWaHv"
      }
    },
    {
      "cell_type": "markdown",
      "source": [
        "# New section"
      ],
      "metadata": {
        "id": "Lzl-avC7whgn"
      }
    },
    {
      "cell_type": "markdown",
      "source": [
        "Abstract"
      ],
      "metadata": {
        "id": "o6uSAvjxpRcd"
      }
    },
    {
      "cell_type": "markdown",
      "source": [
        "**Introduction **"
      ],
      "metadata": {
        "id": "5zk3OeDtpUQ2"
      }
    },
    {
      "cell_type": "markdown",
      "source": [],
      "metadata": {
        "id": "KuosWlh1WL3_"
      }
    },
    {
      "cell_type": "code",
      "execution_count": null,
      "metadata": {
        "id": "aSJCETQdEMNm"
      },
      "outputs": [],
      "source": [
        "# Import libraries for data manipulation and visualizations\n",
        "\n",
        "import numpy as np\n",
        "import pandas as pd\n",
        "import seaborn as sns\n",
        "import matplotlib.pyplot as plt"
      ]
    },
    {
      "cell_type": "markdown",
      "source": [
        "Information about the dataset"
      ],
      "metadata": {
        "id": "pebgwtrnZjeZ"
      }
    },
    {
      "cell_type": "markdown",
      "source": [],
      "metadata": {
        "id": "aDvxo3m1ZgjK"
      }
    },
    {
      "cell_type": "code",
      "source": [
        "## import dataset\n",
        "wheat_data = pd.read_csv(\"wheatData.csv\")\n",
        "\n",
        "# Print column names\n",
        "print(wheat_data.columns)\n",
        "\n",
        "# Print dimensions of the dataset\n",
        "print(wheat_data.shape)\n"
      ],
      "metadata": {
        "colab": {
          "base_uri": "https://localhost:8080/"
        },
        "id": "71diZEvQWyOq",
        "outputId": "6df03b73-7975-4998-da76-de9760ed62f8"
      },
      "execution_count": null,
      "outputs": [
        {
          "output_type": "stream",
          "name": "stdout",
          "text": [
            "Index(['area', 'perimeter', 'compactness', 'length of kernel',\n",
            "       'width of kernel', 'asymmetry coefficient', 'length of kernel groove',\n",
            "       'wheatLabel'],\n",
            "      dtype='object')\n",
            "(210, 8)\n"
          ]
        }
      ]
    },
    {
      "cell_type": "code",
      "source": [
        "# data info\n",
        "wheat_data.info()\n",
        "\n"
      ],
      "metadata": {
        "colab": {
          "base_uri": "https://localhost:8080/"
        },
        "id": "wptcxIl7XXZy",
        "outputId": "5678449e-db1c-4738-e51b-5e88e9f4843f"
      },
      "execution_count": null,
      "outputs": [
        {
          "output_type": "stream",
          "name": "stdout",
          "text": [
            "<class 'pandas.core.frame.DataFrame'>\n",
            "RangeIndex: 210 entries, 0 to 209\n",
            "Data columns (total 8 columns):\n",
            " #   Column                   Non-Null Count  Dtype  \n",
            "---  ------                   --------------  -----  \n",
            " 0   area                     210 non-null    float64\n",
            " 1   perimeter                210 non-null    float64\n",
            " 2   compactness              210 non-null    float64\n",
            " 3   length of kernel         210 non-null    float64\n",
            " 4   width of kernel          210 non-null    float64\n",
            " 5   asymmetry coefficient    210 non-null    float64\n",
            " 6   length of kernel groove  210 non-null    float64\n",
            " 7   wheatLabel               210 non-null    object \n",
            "dtypes: float64(7), object(1)\n",
            "memory usage: 13.2+ KB\n",
            "  wheatLabel  count\n",
            "0   Canadian     70\n",
            "1       Kama     70\n",
            "2      Rosa      70\n"
          ]
        }
      ]
    },
    {
      "cell_type": "code",
      "source": [
        "# data description\n",
        "wheat_data.describe()\n"
      ],
      "metadata": {
        "colab": {
          "base_uri": "https://localhost:8080/"
        },
        "id": "k6mD-Fx4hOEh",
        "outputId": "0cf5d637-6d42-4c3b-e7b1-93d5dc15948b"
      },
      "execution_count": null,
      "outputs": [
        {
          "output_type": "stream",
          "name": "stdout",
          "text": [
            "  wheatLabel  count\n",
            "0   Canadian     70\n",
            "1       Kama     70\n",
            "2      Rosa      70\n"
          ]
        }
      ]
    },
    {
      "cell_type": "markdown",
      "source": [
        "** Data Cleaning **"
      ],
      "metadata": {
        "id": "asDR818wqENl"
      }
    },
    {
      "cell_type": "code",
      "source": [
        "# Group by 'wheatLabel' and count the occurrences of each label to ascertain the state of balancing in the dataset\n",
        "wheat_label_count = wheat_data.groupby('wheatLabel').size().reset_index(name='count')\n",
        "print(wheat_label_count)"
      ],
      "metadata": {
        "id": "5rArfoHEhWEq"
      },
      "execution_count": null,
      "outputs": []
    },
    {
      "cell_type": "code",
      "source": [
        "## Checking for missing values\n",
        "wheat_data.isna.sum()\n",
        "\n",
        "# Check if there are any duplicate rows in the dataset\n",
        "duplicates = wheat_data.duplicated()\n",
        "duplicates.sum()\n"
      ],
      "metadata": {
        "id": "m6J46BdKZ2F6"
      },
      "execution_count": null,
      "outputs": []
    },
    {
      "cell_type": "markdown",
      "source": [
        "** Data Visualization **"
      ],
      "metadata": {
        "id": "JPArqic9qU8P"
      }
    },
    {
      "cell_type": "code",
      "source": [
        "wheat_data.hist(figsize=(15,10))\n",
        "plt.show()"
      ],
      "metadata": {
        "id": "mJF-6Xluhtc9"
      },
      "execution_count": null,
      "outputs": []
    },
    {
      "cell_type": "code",
      "source": [
        "# Apply ggplot style\n",
        "plt.style.use('ggplot')\n",
        "\n",
        "# Create pivot table: Mean of numerical columns grouped by wheatLabel\n",
        "pivot_t = wheat_data.pivot_table(\n",
        "    values=['area', 'perimeter', 'compactness', 'length of kernel',\n",
        "            'width of kernel', 'asymmetry coefficient',\n",
        "            'length of kernel groove'],  # Numerical columns\n",
        "    columns='wheatLabel',  # Group by wheatLabel\n",
        "    aggfunc='mean',  # Aggregate function to calculate mean\n",
        "    fill_value=0     # Fill missing combinations with 0\n",
        ")\n",
        "\n",
        "# Plot all the numeric variables in one plot\n",
        "ax = pivot_t.plot(kind='bar', stacked=False, figsize=(9, 6),\n",
        "                  color=['tan', 'orange', 'brown'])\n",
        "\n",
        "# Add value labels on top of the bars\n",
        "for container in ax.containers:\n",
        "    # Round each value to 1 decimal place\n",
        "    labels = [round(value, 1) for value in container.datavalues]\n",
        "\n",
        "    # Add the rounded labels on top of the bars\n",
        "    ax.bar_label(container, labels=labels, label_type='edge', fontsize=10, color='black', padding=3)\n",
        "\n",
        "# Customize the plot\n",
        "plt.title('Mean Values of Numerical Features by Wheat Label')\n",
        "plt.xlabel('Numerical Features')\n",
        "plt.ylabel('Mean Value')\n",
        "plt.xticks(rotation=45)\n",
        "plt.legend(title='Wheat Label')\n",
        "\n",
        "# Show the plot\n",
        "plt.tight_layout()\n",
        "# plt.savefig(\"wheat_label_mean_barplot_with_values.png\")  # Uncomment to save the plot\n",
        "plt.show()\n"
      ],
      "metadata": {
        "id": "HabEdR59hm60"
      },
      "execution_count": null,
      "outputs": []
    },
    {
      "cell_type": "code",
      "source": [
        "# List of the numerical features to plot\n",
        "numerical_features = ['area', 'perimeter', 'compactness', 'length of kernel',\n",
        "                      'width of kernel', 'asymmetry coefficient', 'length of kernel groove']\n",
        "\n",
        "# Set up the matplotlib figure\n",
        "fig, axes = plt.subplots(1, len(numerical_features), figsize=(15, 10))  # Create subplots for each feature\n",
        "\n",
        "# Plot the boxplots for each numerical feature (on each axis)\n",
        "for i, feature in enumerate(numerical_features):\n",
        "    sns.boxplot(data=wheat_data, y=feature, ax=axes[i], color=\"tan\")\n",
        "\n",
        "    # Customize each plot\n",
        "   # axes[i].set_title(f'{feature}Boxplot')\n",
        "    axes[i].set_ylabel('Value')\n",
        "    axes[i].set_xlabel(feature)\n",
        "\n",
        "# Adjust layout and show both plots\n",
        "plt.tight_layout()\n",
        "plt.show()"
      ],
      "metadata": {
        "id": "btwKXb-vhtOQ"
      },
      "execution_count": null,
      "outputs": []
    },
    {
      "cell_type": "markdown",
      "source": [
        "** Feature Engineering **"
      ],
      "metadata": {
        "id": "kcIg2IflqrXu"
      }
    },
    {
      "cell_type": "code",
      "source": [],
      "metadata": {
        "id": "KHDHSzZbXvnv"
      },
      "execution_count": null,
      "outputs": []
    },
    {
      "cell_type": "markdown",
      "source": [
        "** Modeling **\n",
        "\n",
        "Building predictive models using supervised Classification Learning Models and Artificial Neural Network."
      ],
      "metadata": {
        "id": "GC7X8AcyqxK2"
      }
    },
    {
      "cell_type": "code",
      "source": [],
      "metadata": {
        "id": "m4i-BDPYrsGd"
      },
      "execution_count": null,
      "outputs": []
    },
    {
      "cell_type": "markdown",
      "source": [
        "** Model Metrics **"
      ],
      "metadata": {
        "id": "kckqoFg3rswz"
      }
    },
    {
      "cell_type": "code",
      "source": [],
      "metadata": {
        "id": "1jJK4ATXrxtn"
      },
      "execution_count": null,
      "outputs": []
    }
  ]
}